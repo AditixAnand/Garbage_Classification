{
  "nbformat": 4,
  "nbformat_minor": 0,
  "metadata": {
    "colab": {
      "provenance": []
    },
    "kernelspec": {
      "name": "python3",
      "display_name": "Python 3"
    },
    "language_info": {
      "name": "python"
    }
  },
  "cells": [
    {
      "cell_type": "code",
      "execution_count": null,
      "metadata": {
        "id": "Mn_gDatc6kw0"
      },
      "outputs": [],
      "source": [
        "import tensorflow as tf"
      ]
    },
    {
      "cell_type": "code",
      "source": [
        "from tensorflow import keras\n",
        "from tensorflow.keras import layers, models\n",
        "from tensorflow.keras.applications import EfficientNetV2B2\n",
        "from tensorflow.keras.applications.efficientnet_v2 import preprocess_input\n",
        "from tensorflow.keras.preprocessing.image import ImageDataGenerator\n",
        "import os"
      ],
      "metadata": {
        "id": "hzI3g5ac6mfh"
      },
      "execution_count": null,
      "outputs": []
    },
    {
      "cell_type": "code",
      "source": [
        "pip install keras-tuner\n"
      ],
      "metadata": {
        "id": "iVXJDP4w6q47"
      },
      "execution_count": null,
      "outputs": []
    },
    {
      "cell_type": "code",
      "source": [
        "import keras_tuner as kt"
      ],
      "metadata": {
        "id": "7o6c8-wC64Ob"
      },
      "execution_count": null,
      "outputs": []
    },
    {
      "cell_type": "code",
      "source": [
        "!pip install kaggle\n"
      ],
      "metadata": {
        "id": "G0-0s3VT7SYl"
      },
      "execution_count": null,
      "outputs": []
    },
    {
      "cell_type": "code",
      "source": [
        "from google.colab import files\n",
        "files.upload()"
      ],
      "metadata": {
        "id": "lcosz6Re-kJA"
      },
      "execution_count": null,
      "outputs": []
    },
    {
      "cell_type": "code",
      "source": [
        "!mkdir -p ~/.kaggle\n",
        "!cp kaggle-2.json ~/.kaggle/kaggle.json\n",
        "!chmod 600 ~/.kaggle/kaggle.json\n",
        "\n"
      ],
      "metadata": {
        "id": "Y0iLfNxy-ofp"
      },
      "execution_count": null,
      "outputs": []
    },
    {
      "cell_type": "code",
      "source": [
        "!kaggle datasets list\n",
        "\n"
      ],
      "metadata": {
        "id": "aDQtufFO-t3n"
      },
      "execution_count": null,
      "outputs": []
    },
    {
      "cell_type": "code",
      "source": [
        "!kaggle datasets download -d farzadnekouei/trash-type-image-dataset"
      ],
      "metadata": {
        "id": "qLuJioxP68YY"
      },
      "execution_count": null,
      "outputs": []
    },
    {
      "cell_type": "code",
      "source": [
        "!unzip trash-type-image-dataset.zip -d TrashType_Image_Dataset\n"
      ],
      "metadata": {
        "id": "Q5j5_nifADQj"
      },
      "execution_count": null,
      "outputs": []
    },
    {
      "cell_type": "code",
      "source": [
        "dataset_dir = \"/content/TrashType_Image_Dataset/TrashType_Image_Dataset\"\n"
      ],
      "metadata": {
        "id": "lED11BKwAI5A"
      },
      "execution_count": null,
      "outputs": []
    },
    {
      "cell_type": "code",
      "source": [
        "image_size = (124, 124)\n",
        "seed = 42"
      ],
      "metadata": {
        "id": "UcZYN2MmAOA3"
      },
      "execution_count": null,
      "outputs": []
    },
    {
      "cell_type": "code",
      "source": [
        "# Split into train/validation dataset\n",
        "train_datagen = ImageDataGenerator(\n",
        "    preprocessing_function=preprocess_input,\n",
        "    rotation_range=20,\n",
        "    width_shift_range=0.2,\n",
        "    height_shift_range=0.2,\n",
        "    shear_range=0.2,\n",
        "    zoom_range=0.2,\n",
        "    horizontal_flip=True,\n",
        "    fill_mode='nearest',\n",
        "    validation_split=0.2\n",
        ")\n"
      ],
      "metadata": {
        "id": "mA4wF0WoATR1"
      },
      "execution_count": null,
      "outputs": []
    },
    {
      "cell_type": "code",
      "source": [
        "val_datagen = ImageDataGenerator(\n",
        "    preprocessing_function=preprocess_input,\n",
        "    validation_split=0.2\n",
        ")"
      ],
      "metadata": {
        "id": "LLPV6LhmAe61"
      },
      "execution_count": null,
      "outputs": []
    },
    {
      "cell_type": "code",
      "source": [
        "train_generator = train_datagen.flow_from_directory(\n",
        "    dataset_dir,\n",
        "    target_size=image_size,\n",
        "    batch_size=32,\n",
        "    class_mode='sparse',\n",
        "    subset='training',\n",
        "    seed=seed\n",
        ")\n",
        "\n",
        "val_generator = val_datagen.flow_from_directory(\n",
        "    dataset_dir,\n",
        "    target_size=image_size,\n",
        "    batch_size=32,\n",
        "    class_mode='sparse',\n",
        "    subset='validation',\n",
        "    seed=seed\n",
        ")"
      ],
      "metadata": {
        "id": "vGMV_vWmBYBd"
      },
      "execution_count": null,
      "outputs": []
    },
    {
      "cell_type": "code",
      "source": [
        "num_classes = train_generator.num_classes"
      ],
      "metadata": {
        "id": "nOhBzQ3wBblJ"
      },
      "execution_count": null,
      "outputs": []
    },
    {
      "cell_type": "code",
      "source": [
        "# Model\n",
        "def model_builder(hp):\n",
        "    # Hyperparameters\n",
        "    hp_learning_rate = hp.Choice('learning_rate', [1e-2, 1e-3, 1e-4])\n",
        "    hp_optimizer = hp.Choice('optimizer', ['adam', 'rmsprop'])\n",
        "\n",
        "    # Base model (frozen for tuning)\n",
        "    base_model = EfficientNetV2B2(\n",
        "        input_shape=(124, 124, 3),\n",
        "        include_top=False,\n",
        "        weights='imagenet'\n",
        "    )\n",
        "    base_model.trainable = False\n",
        "\n",
        "    # Build model\n",
        "    model = models.Sequential([\n",
        "        base_model,\n",
        "        layers.GlobalAveragePooling2D(),\n",
        "        layers.Dropout(0.2),\n",
        "        layers.Dense(128, activation='relu'),\n",
        "        layers.Dropout(0.3),\n",
        "        layers.Dense(num_classes, activation='softmax')\n",
        "    ])\n",
        "    # Optimizer selection\n",
        "    if hp_optimizer == 'adam':\n",
        "        optimizer = keras.optimizers.Adam(learning_rate=hp_learning_rate)\n",
        "    else:\n",
        "        optimizer = keras.optimizers.RMSprop(learning_rate=hp_learning_rate)\n",
        "\n",
        "    model.compile(\n",
        "        optimizer=optimizer,\n",
        "        loss='sparse_categorical_crossentropy',\n",
        "        metrics=['accuracy']\n",
        "    )\n",
        "    return model\n"
      ],
      "metadata": {
        "id": "KYqc_89XCXUB"
      },
      "execution_count": null,
      "outputs": []
    },
    {
      "cell_type": "code",
      "source": [
        "# Hyperparameter Tuning\n",
        "tuner = kt.Hyperband(\n",
        "    model_builder,\n",
        "    objective='val_accuracy',\n",
        "    max_epochs=10,\n",
        "    factor=3,\n",
        "    directory='tuner_results',\n",
        "    project_name='effnetv2_tuning'\n",
        ")"
      ],
      "metadata": {
        "id": "wVm9z_2YCpNc"
      },
      "execution_count": null,
      "outputs": []
    },
    {
      "cell_type": "code",
      "source": [
        "stop_early = keras.callbacks.EarlyStopping(monitor='val_loss', patience=3)\n"
      ],
      "metadata": {
        "id": "gxO24szKCvwX"
      },
      "execution_count": null,
      "outputs": []
    },
    {
      "cell_type": "code",
      "source": [
        "tuner.search(\n",
        "    train_generator,\n",
        "    validation_data=val_generator,\n",
        "    callbacks=[stop_early]\n",
        ")\n",
        "\n",
        "best_hps = tuner.get_best_hyperparameters()[0]\n",
        "print(f\"Best learning rate: {best_hps.get('learning_rate')}\")\n",
        "print(f\"Best optimizer: {best_hps.get('optimizer')}\")\n"
      ],
      "metadata": {
        "id": "Qqyt5rVRCySO"
      },
      "execution_count": null,
      "outputs": []
    },
    {
      "cell_type": "code",
      "source": [
        "# Train on the best model\n",
        "model = tuner.hypermodel.build(best_hps)\n",
        "\n",
        "checkpoint_cb = keras.callbacks.ModelCheckpoint(\n",
        "    \"best_model.h5\", save_best_only=True, monitor='val_accuracy', mode='max'\n",
        ")"
      ],
      "metadata": {
        "id": "guu2HxcyC0w_"
      },
      "execution_count": null,
      "outputs": []
    },
    {
      "cell_type": "code",
      "source": [
        "history = model.fit(\n",
        "    train_generator,\n",
        "    validation_data=val_generator,\n",
        "    epochs=10,\n",
        "    callbacks=[checkpoint_cb]\n",
        ")"
      ],
      "metadata": {
        "id": "7WdBf_XeC8eR"
      },
      "execution_count": null,
      "outputs": []
    },
    {
      "cell_type": "code",
      "source": [
        "# Fine-Tuning (Unfreeze Top Layers)\n",
        "base_model = model.layers[0]\n",
        "base_model.trainable = True"
      ],
      "metadata": {
        "id": "IcfNe6ktDI6e"
      },
      "execution_count": null,
      "outputs": []
    },
    {
      "cell_type": "code",
      "source": [
        "# Freeze all but last 50 layers for fine-tuning\n",
        "for layer in base_model.layers[:-50]:\n",
        "    layer.trainable = False\n"
      ],
      "metadata": {
        "id": "X4S5Utu2DXqE"
      },
      "execution_count": null,
      "outputs": []
    },
    {
      "cell_type": "code",
      "source": [
        "model.compile(\n",
        "    optimizer=keras.optimizers.Adam(learning_rate=best_hps.get('learning_rate') / 10),\n",
        "    loss='sparse_categorical_crossentropy',\n",
        "    metrics=['accuracy']\n",
        ")"
      ],
      "metadata": {
        "id": "3NJN80nCDhDn"
      },
      "execution_count": null,
      "outputs": []
    },
    {
      "cell_type": "code",
      "source": [
        "history_fine = model.fit(\n",
        "    train_generator,\n",
        "    validation_data=val_generator,\n",
        "    epochs=5,\n",
        "    callbacks=[checkpoint_cb]\n",
        ")\n"
      ],
      "metadata": {
        "id": "7NEZ7WLaDlE8"
      },
      "execution_count": null,
      "outputs": []
    },
    {
      "cell_type": "code",
      "source": [
        "# Load the best saved model\n",
        "best_model = keras.models.load_model(\"best_model.h5\")"
      ],
      "metadata": {
        "id": "HK7zorQYGfiE"
      },
      "execution_count": null,
      "outputs": []
    },
    {
      "cell_type": "code",
      "source": [
        "# Evaluate on validation set\n",
        "loss, accuracy = best_model.evaluate(val_generator)\n",
        "print(f\"Final Validation Accuracy: {accuracy * 100:.2f}%\")"
      ],
      "metadata": {
        "id": "BP83HqCwGf77"
      },
      "execution_count": null,
      "outputs": []
    },
    {
      "cell_type": "code",
      "source": [
        "loss, accuracy = best_model.evaluate(train_generator)\n",
        "print(f\"Final Validation Accuracy: {accuracy * 100:.2f}%\")"
      ],
      "metadata": {
        "id": "WQrRlaDsGiYw"
      },
      "execution_count": null,
      "outputs": []
    },
    {
      "cell_type": "code",
      "source": [],
      "metadata": {
        "id": "fSUtYzTMWva_"
      },
      "execution_count": null,
      "outputs": []
    }
  ]
}